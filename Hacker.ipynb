{
  "cells": [
    {
      "cell_type": "code",
      "execution_count": null,
      "metadata": {
        "colab": {
          "base_uri": "https://localhost:8080/"
        },
        "id": "SRbq9gNOWHla",
        "outputId": "18232d62-8cd9-4d28-8057-894a7131482b"
      },
      "outputs": [
        {
          "name": "stdout",
          "output_type": "stream",
          "text": [
            "--2023-04-26 10:54:28--  http://dl.fbaipublicfiles.com/VisualVoice/mouth_roi_unseen_unheard_test.tar.gz\n",
            "Resolving dl.fbaipublicfiles.com (dl.fbaipublicfiles.com)... 108.157.162.108, 108.157.162.35, 108.157.162.83, ...\n",
            "Connecting to dl.fbaipublicfiles.com (dl.fbaipublicfiles.com)|108.157.162.108|:80... connected.\n",
            "HTTP request sent, awaiting response... 200 OK\n",
            "Length: 21257177496 (20G) [application/gzip]\n",
            "Saving to: ‘mouth_roi_unseen_unheard_test.tar.gz’\n",
            "\n",
            "mouth_roi_unseen_un 100%[===================>]  19.80G  40.7MB/s    in 8m 5s   \n",
            "\n",
            "2023-04-26 11:02:34 (41.8 MB/s) - ‘mouth_roi_unseen_unheard_test.tar.gz’ saved [21257177496/21257177496]\n",
            "\n"
          ]
        }
      ],
      "source": [
        "import tarfile\n",
        "\n",
        "!wget http://dl.fbaipublicfiles.com/VisualVoice/mouth_roi_unseen_unheard_test.tar.gz"
      ]
    },
    {
      "cell_type": "code",
      "execution_count": null,
      "metadata": {
        "id": "Yqk4fsi7qGUT"
      },
      "outputs": [],
      "source": [
        "# !rm -rf mouth_roi_hdf5"
      ]
    },
    {
      "cell_type": "code",
      "execution_count": null,
      "metadata": {
        "id": "i_hVpiBNjZDd"
      },
      "outputs": [],
      "source": [
        "%%capture\n",
        "import tarfile\n",
        "\n",
        "tar = tarfile.open(\"mouth_roi_unseen_unheard_test.tar.gz\", \"r\")\n",
        "file_list = tar.getnames()\n",
        "ids1 = set([name.split(\"/\")[1] for name in file_list if len(name.split(\"/\")) > 1])\n",
        "\n",
        "ids = []\n",
        "i = 0\n",
        "for x in ids1:\n",
        "  i += 1\n",
        "  ids.append(x)\n",
        "  if i == 6:\n",
        "    break\n",
        "\n",
        "ids = set(ids)\n",
        "print(ids)\n",
        "\n",
        "for name in file_list:\n",
        "  if len(name.split(\"/\")) == 1 or name.split(\"/\")[1] in ids:\n",
        "    print(name)\n",
        "    tar.extract(name)\n",
        "\n",
        "\n",
        "\n",
        "# Close the tar archive\n",
        "tar.close()"
      ]
    },
    {
      "cell_type": "code",
      "execution_count": null,
      "metadata": {
        "id": "diWreru4tSAT"
      },
      "outputs": [],
      "source": [
        "!rm mouth_roi_unseen_unheard_test.tar.gz"
      ]
    },
    {
      "cell_type": "code",
      "execution_count": null,
      "metadata": {
        "id": "lc33SpEttVdy"
      },
      "outputs": [],
      "source": [
        "!wget \"https://thor.robots.ox.ac.uk/~vgg/data/voxceleb/vox1a/vox2_test_mp4.zip\" "
      ]
    },
    {
      "cell_type": "code",
      "execution_count": null,
      "metadata": {
        "id": "13vtl9TUtiEc"
      },
      "outputs": [],
      "source": [
        "import zipfile\n",
        "\n",
        "# Open the ZIP archive in read mode\n",
        "zip_file = zipfile.ZipFile(\"vox2_test_mp4.zip\", \"r\")\n",
        "\n",
        "# Get a list of all the file names in the archive\n",
        "file_names = zip_file.namelist()\n",
        "\n",
        "# Extract the file extensions from the file names\n",
        "extensions1 = set([name.split(\".\")[-1] for name in file_names])\n",
        "\n",
        "for name in file_names:\n",
        "  if name.split(\"/\")[1] in ids:\n",
        "    zip_file.extract(name)\n",
        "\n",
        "# Close the ZIP archive\n",
        "zip_file.close()\n",
        "\n",
        "!rm vox2_test_mp4.zip"
      ]
    },
    {
      "cell_type": "code",
      "execution_count": null,
      "metadata": {
        "id": "4wSoeyiDuc8_"
      },
      "outputs": [],
      "source": [
        "!wget \"https://thor.robots.ox.ac.uk/~vgg/data/voxceleb/vox1a/vox2_test_aac.zip\" "
      ]
    },
    {
      "cell_type": "code",
      "execution_count": null,
      "metadata": {
        "id": "px54dq26ujeb"
      },
      "outputs": [],
      "source": [
        "import zipfile\n",
        "\n",
        "# Open the ZIP archive in read mode\n",
        "zip_file = zipfile.ZipFile(\"vox2_test_aac.zip\", \"r\")\n",
        "\n",
        "# Get a list of all the file names in the archive\n",
        "file_names = zip_file.namelist()\n",
        "\n",
        "# Extract the file extensions from the file names\n",
        "extensions2 = set([name.split(\".\")[-1] for name in file_names])\n",
        "\n",
        "for name in file_names:\n",
        "  if name.split(\"/\")[1] in ids:\n",
        "    zip_file.extract(name)\n",
        "\n",
        "# Close the ZIP archive\n",
        "zip_file.close()\n",
        "\n",
        "!rm vox2_test_aac.zip"
      ]
    },
    {
      "cell_type": "code",
      "execution_count": null,
      "metadata": {
        "colab": {
          "base_uri": "https://localhost:8080/"
        },
        "id": "DaRi7K7syjTx",
        "outputId": "04273c00-0c28-49cf-98c5-e40db14e8eb0"
      },
      "outputs": [
        {
          "name": "stdout",
          "output_type": "stream",
          "text": [
            "\u001b[33mWARNING: Skipping pydub as it is not installed.\u001b[0m\u001b[33m\n",
            "\u001b[0m\u001b[33mWARNING: No matching packages\u001b[0m\u001b[33m\n",
            "\u001b[0mFiles removed: 0\n",
            "Looking in indexes: https://pypi.org/simple, https://us-python.pkg.dev/colab-wheels/public/simple/\n",
            "Collecting pydub==0.24.1\n",
            "  Downloading pydub-0.24.1-py2.py3-none-any.whl (30 kB)\n",
            "Installing collected packages: pydub\n",
            "Successfully installed pydub-0.24.1\n"
          ]
        }
      ],
      "source": [
        "\n",
        "!pip uninstall pydub -y && pip cache purge\n",
        "!pip install pydub==0.24.1\n"
      ]
    },
    {
      "cell_type": "code",
      "execution_count": null,
      "metadata": {
        "id": "l9tjpPLvogQh"
      },
      "outputs": [],
      "source": [
        "##converting all m4a files to wav files\n",
        "import os\n",
        "import glob\n",
        "from pydub import AudioSegment\n",
        "\n",
        "# set the path to your input directory\n",
        "input_dir = \"/content/aac/\"\n",
        "\n",
        "# set the path to your output directory\n",
        "output_dir = \"/content/aac2/\"\n",
        "\n",
        "# loop over all m4a files in the directory and its subdirectories\n",
        "for file_path in glob.iglob(os.path.join(input_dir, '**/*.m4a'), recursive=True):\n",
        "    # construct the output file path by replacing the input directory with the output directory\n",
        "    output_file = os.path.join(output_dir, os.path.relpath(file_path, input_dir)).replace(\".m4a\", \".wav\")\n",
        "    \n",
        "    # create the output directory if it does not exist\n",
        "    os.makedirs(os.path.dirname(output_file), exist_ok=True)\n",
        "    \n",
        "    # load the input file using pydub\n",
        "    audio = AudioSegment.from_file(file_path, format=\"m4a\")\n",
        "\n",
        "    # export the audio to a wav file using pydub\n",
        "    audio.export(output_file, format=\"wav\")\n"
      ]
    },
    {
      "cell_type": "code",
      "execution_count": null,
      "metadata": {
        "id": "sS6ilHLNzck4"
      },
      "outputs": [],
      "source": [
        "!rm -rf /content/aac/\n",
        "!mv /content/aac2/ /content/aac/"
      ]
    },
    {
      "cell_type": "code",
      "execution_count": null,
      "metadata": {
        "colab": {
          "base_uri": "https://localhost:8080/"
        },
        "id": "T1DDZmgdhkBO",
        "outputId": "766e9a34-224a-4857-8604-d6a15de6915a"
      },
      "outputs": [
        {
          "name": "stdout",
          "output_type": "stream",
          "text": [
            "Cloning into 'VisualVoice'...\n",
            "remote: Enumerating objects: 109, done.\u001b[K\n",
            "remote: Counting objects: 100% (21/21), done.\u001b[K\n",
            "remote: Compressing objects: 100% (6/6), done.\u001b[K\n",
            "remote: Total 109 (delta 15), reused 15 (delta 15), pack-reused 88\u001b[K\n",
            "Receiving objects: 100% (109/109), 3.39 MiB | 29.44 MiB/s, done.\n",
            "Resolving deltas: 100% (48/48), done.\n",
            "/content/VisualVoice\n",
            "av-enhancement\t\t    evaluateSeparation.py  testRealVideo.py\n",
            "av-separation-with-context  LICENSE\t\t   test_videos\n",
            "CODE_OF_CONDUCT.md\t    models\t\t   train.py\n",
            "configs\t\t\t    options\t\t   utils\n",
            "CONTRIBUTING.md\t\t    README.md\t\t   VisualVoice_teaser.png\n",
            "data\t\t\t    test.py\n"
          ]
        }
      ],
      "source": [
        "! git clone https://github.com/facebookresearch/VisualVoice.git\n",
        "%cd /content/VisualVoice\n",
        "!ls"
      ]
    },
    {
      "cell_type": "markdown",
      "metadata": {
        "id": "-UP7HfVDCSJJ"
      },
      "source": [
        "Matching Versions for proper execution\n"
      ]
    },
    {
      "cell_type": "code",
      "execution_count": null,
      "metadata": {
        "id": "W8Kw80p-hqgT"
      },
      "outputs": [],
      "source": [
        "!python --version"
      ]
    },
    {
      "cell_type": "code",
      "execution_count": null,
      "metadata": {
        "id": "7uVSoOuPignT"
      },
      "outputs": [],
      "source": [
        "#installing the compatible version of g++ with cuda 10.0\n",
        "%%capture\n",
        "!sudo apt-get install g++-7\n",
        "!sudo update-alternatives --install /usr/bin/g++ g++ /usr/bin/g++-7 10\n"
      ]
    },
    {
      "cell_type": "code",
      "execution_count": null,
      "metadata": {
        "id": "9DPZdNc3kUZ8"
      },
      "outputs": [],
      "source": [
        "!g++ --version"
      ]
    },
    {
      "cell_type": "code",
      "execution_count": null,
      "metadata": {
        "colab": {
          "background_save": true,
          "base_uri": "https://localhost:8080/"
        },
        "id": "yauMIqjsi1YK",
        "outputId": "fcce26b3-3f51-4731-87fa-b3033a289d98"
      },
      "outputs": [
        {
          "name": "stdout",
          "output_type": "stream",
          "text": [
            "--2023-04-26 11:22:59--  https://developer.nvidia.com/compute/cuda/10.0/Prod/local_installers/cuda_10.0.130_410.48_linux\n",
            "Resolving developer.nvidia.com (developer.nvidia.com)... 152.195.19.142\n",
            "Connecting to developer.nvidia.com (developer.nvidia.com)|152.195.19.142|:443... connected.\n",
            "HTTP request sent, awaiting response... 301 Moved Permanently\n",
            "Location: https://developer.nvidia.com/downloads/compute/cuda/10.0/Prod/local_installers/cuda_10.0.130_410.48_linux [following]\n",
            "--2023-04-26 11:22:59--  https://developer.nvidia.com/downloads/compute/cuda/10.0/Prod/local_installers/cuda_10.0.130_410.48_linux\n",
            "Reusing existing connection to developer.nvidia.com:443.\n",
            "HTTP request sent, awaiting response... 302 Found\n",
            "Location: https://developer.download.nvidia.com/compute/cuda/10.0/secure/Prod/local_installers/cuda_10.0.130_410.48_linux.run?HmpbyTy1SXpwR6hAZzxRAyOFhU3GzrWf3wnNr-xzumJN5rdFz2bvFzuzMRd-g6qsKTL5sFp7tzjOq_6CEmlT1h337e3_OgHJGC4Kk3SNH6eKC9Hjbc19NDfN8o2QqRaEN6TVr8ke5VF76NtVM51xL8MECRusWC_qcSmeV1Sw6zalB-6Mb80goGK5I7Y= [following]\n",
            "--2023-04-26 11:22:59--  https://developer.download.nvidia.com/compute/cuda/10.0/secure/Prod/local_installers/cuda_10.0.130_410.48_linux.run?HmpbyTy1SXpwR6hAZzxRAyOFhU3GzrWf3wnNr-xzumJN5rdFz2bvFzuzMRd-g6qsKTL5sFp7tzjOq_6CEmlT1h337e3_OgHJGC4Kk3SNH6eKC9Hjbc19NDfN8o2QqRaEN6TVr8ke5VF76NtVM51xL8MECRusWC_qcSmeV1Sw6zalB-6Mb80goGK5I7Y=\n",
            "Resolving developer.download.nvidia.com (developer.download.nvidia.com)... 152.195.19.142\n",
            "Connecting to developer.download.nvidia.com (developer.download.nvidia.com)|152.195.19.142|:443... connected.\n",
            "HTTP request sent, awaiting response... 200 OK\n",
            "Length: 2020126691 (1.9G) [application/octet-stream]\n",
            "Saving to: ‘cuda_10.0.130_410.48_linux’\n",
            "\n",
            "cuda_10.0.130_410.4 100%[===================>]   1.88G  89.1MB/s    in 22s     \n",
            "\n",
            "2023-04-26 11:23:22 (87.4 MB/s) - ‘cuda_10.0.130_410.48_linux’ saved [2020126691/2020126691]\n",
            "\n"
          ]
        }
      ],
      "source": [
        "# cuda 10.0 installation\n",
        "# %%capture\n",
        "!wget https://developer.nvidia.com/compute/cuda/10.0/Prod/local_installers/cuda_10.0.130_410.48_linux\n",
        "!chmod +x cuda_10.0.130_410.48_linux\n",
        "!./cuda_10.0.130_410.48_linux --silent --toolkit --override\n",
        "import os\n",
        "os.environ['PATH'] += ':/usr/local/cuda-10.0/bin'\n",
        "os.environ['LD_LIBRARY_PATH'] += ':/usr/local/cuda-10.0/lib64'\n",
        "\n"
      ]
    },
    {
      "cell_type": "code",
      "execution_count": null,
      "metadata": {
        "colab": {
          "background_save": true
        },
        "id": "8DaPqFEEugkX",
        "outputId": "b691b973-cd0c-4935-aae6-f86a33715300"
      },
      "outputs": [
        {
          "name": "stdout",
          "output_type": "stream",
          "text": [
            "nvcc: NVIDIA (R) Cuda compiler driver\n",
            "Copyright (c) 2005-2018 NVIDIA Corporation\n",
            "Built on Sat_Aug_25_21:08:01_CDT_2018\n",
            "Cuda compilation tools, release 10.0, V10.0.130\n"
          ]
        }
      ],
      "source": [
        "!nvcc --version"
      ]
    },
    {
      "cell_type": "code",
      "execution_count": null,
      "metadata": {
        "colab": {
          "background_save": true
        },
        "id": "FAS81207-13l"
      },
      "outputs": [],
      "source": [
        "#Ubuntu 18.04.3 LTS, CUDA 10.0, Python 3.7.3, PyTorch 1.3.0, torchvision 0.4.1, face-alignment 1.2.0, librosa 0.7.0, av 8.0.3)\n"
      ]
    },
    {
      "cell_type": "code",
      "execution_count": null,
      "metadata": {
        "id": "5_6qiX4qWbJn"
      },
      "outputs": [],
      "source": [
        "# %%capture\n",
        "!sudo apt-get install python3.7\n",
        "!sudo apt-get update -y\n",
        "!sudo update-alternatives --install /usr/bin/python3 python3 /usr/bin/python3.7 1\n",
        "!sudo update-alternatives --config python3\n",
        "!sudo apt-get install --reinstall python3.7-distutils\n",
        "\n",
        "# !sudo apt-get install --reinstall python3-apt"
      ]
    },
    {
      "cell_type": "code",
      "execution_count": null,
      "metadata": {
        "id": "xFuT6n9mR1kf"
      },
      "outputs": [],
      "source": [
        "!wget https://bootstrap.pypa.io/get-pip.py\n",
        "!sudo python3 get-pip.py\n",
        "\n"
      ]
    },
    {
      "cell_type": "code",
      "execution_count": null,
      "metadata": {
        "id": "vWjohQhPm5IX"
      },
      "outputs": [],
      "source": [
        "# %%capture\n",
        "!pip uninstall torch -y\n",
        "!pip install torch==1.3.0\n",
        "!pip uninstall torchvision -y\n",
        "!pip uninstall six -y\n",
        "!pip cache purge\n",
        "!pip install six==1.12.0\n",
        "!pip install torchvision==0.4.1\n",
        "!pip uninstall tqdm -y && pip cache purge\n",
        "!pip install tqdm==4.23.4\n",
        "!pip install face-alignment==1.2.0\n",
        "!pip uninstall zipp -y && pip cache purge\n",
        "!pip install zipp==0.5.1\n",
        "!pip install librosa==0.7.0\n",
        "!pip install cffi==1.11.5\n",
        "!pip install av==8.0.3\n"
      ]
    },
    {
      "cell_type": "code",
      "execution_count": null,
      "metadata": {
        "id": "aw0X38-DMYRh"
      },
      "outputs": [],
      "source": [
        "# %cd VisualVoice\n",
        "!ls"
      ]
    },
    {
      "cell_type": "code",
      "execution_count": null,
      "metadata": {
        "id": "NbAuNqrdzZeN"
      },
      "outputs": [],
      "source": [
        "%mkdir pretrained_models\n",
        "%cd pretrained_models"
      ]
    },
    {
      "cell_type": "code",
      "execution_count": null,
      "metadata": {
        "id": "NNlndFib_Nxo"
      },
      "outputs": [],
      "source": [
        "!wget http://dl.fbaipublicfiles.com/VisualVoice/av-speech-separation-model/facial_best.pth\n",
        "!wget http://dl.fbaipublicfiles.com/VisualVoice/av-speech-separation-model/lipreading_best.pth\n",
        "!wget http://dl.fbaipublicfiles.com/VisualVoice/av-speech-separation-model/unet_best.pth\n",
        "!wget http://dl.fbaipublicfiles.com/VisualVoice/av-speech-separation-model/vocal_best.pth"
      ]
    },
    {
      "cell_type": "code",
      "execution_count": null,
      "metadata": {
        "id": "jw1CNILsPN9z"
      },
      "outputs": [],
      "source": []
    },
    {
      "cell_type": "code",
      "execution_count": null,
      "metadata": {
        "id": "wmpPdOnyLigN"
      },
      "outputs": [],
      "source": [
        "%cd ../\n",
        "# %cd content/VisualVoice\n",
        "%ls"
      ]
    },
    {
      "cell_type": "code",
      "execution_count": null,
      "metadata": {
        "id": "O0CTGkEmOXnW"
      },
      "outputs": [],
      "source": [
        "\n",
        "!mkdir test_videos/interview\n",
        "!ffmpeg -i ./test_videos/interview.mp4 -filter:v fps=fps=25 ./test_videos/interview25fps.mp4"
      ]
    },
    {
      "cell_type": "code",
      "execution_count": null,
      "metadata": {
        "id": "0CtLiD1fTOBl"
      },
      "outputs": [],
      "source": [
        " \n",
        "!mv ./test_videos/interview25fps.mp4 ./test_videos/interview.mp4"
      ]
    },
    {
      "cell_type": "code",
      "execution_count": null,
      "metadata": {
        "id": "8BlMAcQIAASm"
      },
      "outputs": [],
      "source": [
        "#requirements for the project\n",
        "%%capture\n",
        "!pip install --upgrade pip\n",
        "!pip install --upgrade setuptools\n",
        "\n",
        "!pip uninstall numba -y\n",
        "!pip uninstall resampy -y\n",
        "!pip install resampy==0.2.2\n",
        "!pip install numba==0.48.0\n",
        "!pip uninstall cycler -y \n",
        "!pip install cycler==0.10.0\n",
        "!pip uninstall kiwisolver -y \n",
        "!pip install kiwisolver==1.1.0\n",
        "!pip install matplotlib==3.1.3\n",
        "!pip install python_dateutil==2.8.2\n",
        "!pip install ipykernel==5.5.5\n",
        "!pip uninstall ipython_genutils -y && pip cache purge\n",
        "!pip install ipython_genutils==0.1.0\n",
        "!pip install certifi==2020.12.5\n",
        "!pip install facenet-pytorch==2.5.2\n",
        "!pip uninstall PIL\n",
        "!pip install Pillow==8.4.0 \n",
        "!pip uninstall mmcv-full -y && pip cache purge\n",
        "!pip install mmcv==1.3.10\n",
        "!pip install h5py==3.3.0"
      ]
    },
    {
      "cell_type": "code",
      "execution_count": null,
      "metadata": {
        "id": "d9WajGoJTSsK"
      },
      "outputs": [],
      "source": [
        "!python utils/detectFaces.py --video_input_path test_videos/interview.mp4 --output_path test_videos/interview/ --number_of_speakers 2 --scalar_face_detection 1.5 --detect_every_N_frame 8\n"
      ]
    },
    {
      "cell_type": "code",
      "execution_count": null,
      "metadata": {
        "id": "39q00KRcatQB"
      },
      "outputs": [],
      "source": [
        "!ffmpeg -i test_videos/interview.mp4 -vn -ar 16000 -ac 1 -ab 192k -f wav test_videos/interview/interview.wav\n"
      ]
    },
    {
      "cell_type": "code",
      "execution_count": null,
      "metadata": {
        "id": "d2kTZA26ACvC"
      },
      "outputs": [],
      "source": [
        "!python utils/crop_mouth_from_video.py --video-direc test_videos/interview/faces/ --landmark-direc test_videos/interview/landmark/ --save-direc test_videos/interview/mouthroi/ --convert-gray --filename-path test_videos/interview/filename_input/interview.csv\n"
      ]
    },
    {
      "cell_type": "code",
      "execution_count": null,
      "metadata": {
        "id": "ivL041UfTQkt"
      },
      "outputs": [],
      "source": []
    },
    {
      "cell_type": "code",
      "execution_count": null,
      "metadata": {
        "id": "g9t8o-prLQ0e"
      },
      "outputs": [],
      "source": [
        "!python testRealVideo.py \\\n",
        "--mouthroi_root ./test_videos/interview/mouthroi/ \\\n",
        "--facetrack_root ./test_videos/interview/faces/ \\\n",
        "--audio_path ./test_videos/interview/interview.wav \\\n",
        "--weights_lipreadingnet pretrained_models/lipreading_best.pth \\\n",
        "--weights_facial pretrained_models/facial_best.pth \\\n",
        "--weights_unet pretrained_models/unet_best.pth \\\n",
        "--weights_vocal pretrained_models/vocal_best.pth \\\n",
        "--lipreading_config_path configs/lrw_snv1x_tcn2x.json \\\n",
        "--num_frames 64 \\\n",
        "--audio_length 2.55 \\\n",
        "--hop_size 160 \\\n",
        "--window_size 400 \\\n",
        "--n_fft 512 \\\n",
        "--unet_output_nc 2 \\\n",
        "--normalization \\\n",
        "--visual_feature_type both \\\n",
        "--identity_feature_dim 128 \\\n",
        "--audioVisual_feature_dim 1152 \\\n",
        "--visual_pool maxpool \\\n",
        "--audio_pool maxpool \\\n",
        "--compression_type none \\\n",
        "--reliable_face \\\n",
        "--audio_normalization \\\n",
        "--desired_rms 0.7 \\\n",
        "--number_of_speakers 2 \\\n",
        "--mask_clip_threshold 5 \\\n",
        "--hop_length 2.55 \\\n",
        "--lipreading_extract_feature \\\n",
        "--number_of_identity_frames 1 \\\n",
        "--output_dir_root test_videos/interview/"
      ]
    },
    {
      "cell_type": "markdown",
      "metadata": {
        "id": "_t8jtLhCBwUd"
      },
      "source": [
        "Data Prepping for Training and Testing"
      ]
    },
    {
      "cell_type": "code",
      "execution_count": null,
      "metadata": {
        "id": "_Rm2phZy7eFO"
      },
      "outputs": [],
      "source": [
        "\n",
        "%mkdir /content/VisualVoice/VoxCeleb2\n",
        "%mkdir /content/VisualVoice/VoxCeleb2/mp4\n",
        "%mkdir /content/VisualVoice/VoxCeleb2/aac\n",
        "%mkdir /content/VisualVoice/VoxCeleb2/mouth_roi_hdf5\n",
        "\n",
        "%mkdir /content/VisualVoice/VoxCeleb2/mp4/train\n",
        "%mkdir /content/VisualVoice/VoxCeleb2/mp4/val\n",
        "%mkdir /content/VisualVoice/VoxCeleb2/mp4/seen_heard_test\n",
        "%mkdir /content/VisualVoice/VoxCeleb2/mp4/unseen_unheard_test\n",
        "\n",
        "\n",
        "%mkdir /content/VisualVoice/VoxCeleb2/aac/train\n",
        "%mkdir /content/VisualVoice/VoxCeleb2/aac/val\n",
        "%mkdir /content/VisualVoice/VoxCeleb2/aac/seen_heard_test\n",
        "%mkdir /content/VisualVoice/VoxCeleb2/aac/unseen_unheard_test\n",
        "\n",
        "\n",
        "%mkdir /content/VisualVoice/VoxCeleb2/mouth_roi_hdf5/train\n",
        "%mkdir /content/VisualVoice/VoxCeleb2/mouth_roi_hdf5/val\n",
        "%mkdir /content/VisualVoice/VoxCeleb2/mouth_roi_hdf5/seen_heard_test\n",
        "%mkdir /content/VisualVoice/VoxCeleb2/mouth_roi_hdf5/unseen_unheard_test"
      ]
    },
    {
      "cell_type": "code",
      "execution_count": null,
      "metadata": {
        "id": "7OsmE0lOylXf"
      },
      "outputs": [],
      "source": [
        "%cd /content/"
      ]
    },
    {
      "cell_type": "code",
      "execution_count": null,
      "metadata": {
        "id": "qoew4qmO3VtG"
      },
      "outputs": [],
      "source": [
        "# !rm -rf /content/VisualVoice/VoxCeleb2"
      ]
    },
    {
      "cell_type": "code",
      "execution_count": null,
      "metadata": {
        "id": "1cJPdhYP6gZ2"
      },
      "outputs": [],
      "source": []
    },
    {
      "cell_type": "code",
      "execution_count": null,
      "metadata": {
        "id": "wGiMFe5qGBwa"
      },
      "outputs": [],
      "source": []
    },
    {
      "cell_type": "code",
      "execution_count": null,
      "metadata": {
        "id": "bwhMBJkyyghr"
      },
      "outputs": [],
      "source": [
        "import random\n",
        "\n",
        "num_train = 3\n",
        "num_val = 1\n",
        "num_seen_heard_test = 1\n",
        "num_unseen_unheard_test = 1\n",
        "\n",
        "ids = list(ids)\n",
        "random.shuffle(ids)\n",
        "\n",
        "train_ids = set(ids[:num_train])\n",
        "val_ids = set(ids[num_train:num_train+num_val])\n",
        "seen_heard_test_ids = set(ids[num_train+num_val:num_train+num_val+num_seen_heard_test])\n",
        "unseen_unheard_test_ids = set(ids[num_train+num_val+num_seen_heard_test:])\n",
        "\n"
      ]
    },
    {
      "cell_type": "code",
      "execution_count": null,
      "metadata": {
        "id": "dnAjwoqH67XG"
      },
      "outputs": [],
      "source": [
        "import os\n",
        "import shutil\n",
        "\n",
        "# Define the source and destination directories\n",
        "src_dir = '/content/aac/'\n",
        "dest_dir = '/content/VisualVoice/VoxCeleb2/aac/seen_heard_test/'\n",
        "\n",
        "\n",
        "# Loop through the files and directories in the source directory\n",
        "for file_name in os.listdir(src_dir):\n",
        "    # Check if the current item is a directory and has the specified name\n",
        "    if os.path.isdir(os.path.join(src_dir, file_name)) and file_name in seen_heard_test_ids:\n",
        "        # If it does, move the directory to the destination directory\n",
        "        shutil.move(os.path.join(src_dir, file_name), os.path.join(dest_dir, file_name))\n",
        "        # print(f\"Moved {file_name} from {src_dir} to {dest_dir}\")\n",
        "\n",
        "src_dir = '/content/mp4/'\n",
        "dest_dir = '/content/VisualVoice/VoxCeleb2/mp4/seen_heard_test/'\n",
        "\n",
        "for file_name in os.listdir(src_dir):\n",
        "    # Check if the current item is a directory and has the specified name\n",
        "    if os.path.isdir(os.path.join(src_dir, file_name)) and file_name in seen_heard_test_ids:\n",
        "        # If it does, move the directory to the destination directory\n",
        "        shutil.move(os.path.join(src_dir, file_name), os.path.join(dest_dir, file_name))\n",
        "        # print(f\"Moved {file_name} from {src_dir} to {dest_dir}\")\n",
        "\n",
        "src_dir = '/content/mouth_roi_hdf5/'\n",
        "\n",
        "dest_dir = '/content/VisualVoice/VoxCeleb2/mouth_roi_hdf5/seen_heard_test/'\n",
        "\n",
        "for file_name in os.listdir(src_dir):\n",
        "    # Check if the current item is a directory and has the specified name\n",
        "    if os.path.isdir(os.path.join(src_dir, file_name)) and file_name in seen_heard_test_ids:\n",
        "        # If it does, move the directory to the destination directory\n",
        "        shutil.move(os.path.join(src_dir, file_name), os.path.join(dest_dir, file_name))\n",
        "        # print(f\"Moved {file_name} from {src_dir} to {dest_dir}\")\n",
        "\n",
        "\n"
      ]
    },
    {
      "cell_type": "code",
      "execution_count": null,
      "metadata": {
        "id": "PgKZA6Iy7ycr"
      },
      "outputs": [],
      "source": [
        "import os\n",
        "import shutil\n",
        "\n",
        "# Define the source and destination directories\n",
        "src_dir = '/content/aac/'\n",
        "dest_dir = '/content/VisualVoice/VoxCeleb2/aac/unseen_unheard_test/'\n",
        "\n",
        "\n",
        "# Loop through the files and directories in the source directory\n",
        "for file_name in os.listdir(src_dir):\n",
        "    # Check if the current item is a directory and has the specified name\n",
        "    if os.path.isdir(os.path.join(src_dir, file_name)) and file_name in unseen_unheard_test_ids:\n",
        "        # If it does, move the directory to the destination directory\n",
        "        shutil.move(os.path.join(src_dir, file_name), os.path.join(dest_dir, file_name))\n",
        "        # print(f\"Moved {file_name} from {src_dir} to {dest_dir}\")\n",
        "\n",
        "\n",
        "# Define the source and destination directories\n",
        "src_dir = '/content/mp4/'\n",
        "dest_dir = '/content/VisualVoice/VoxCeleb2/mp4/unseen_unheard_test/'\n",
        "\n",
        "\n",
        "# Loop through the files and directories in the source directory\n",
        "for file_name in os.listdir(src_dir):\n",
        "    # Check if the current item is a directory and has the specified name\n",
        "    if os.path.isdir(os.path.join(src_dir, file_name)) and file_name in unseen_unheard_test_ids:\n",
        "        # If it does, move the directory to the destination directory\n",
        "        shutil.move(os.path.join(src_dir, file_name), os.path.join(dest_dir, file_name))\n",
        "        # print(f\"Moved {file_name} from {src_dir} to {dest_dir}\")\n",
        "\n",
        "\n",
        "# Define the source and destination directories\n",
        "src_dir = '/content/mouth_roi_hdf5/'\n",
        "dest_dir = '/content/VisualVoice/VoxCeleb2/mouth_roi_hdf5/unseen_unheard_test/'\n",
        "\n",
        "\n",
        "# Loop through the files and directories in the source directory\n",
        "for file_name in os.listdir(src_dir):\n",
        "    # Check if the current item is a directory and has the specified name\n",
        "    if os.path.isdir(os.path.join(src_dir, file_name)) and file_name in unseen_unheard_test_ids:\n",
        "        # If it does, move the directory to the destination directory\n",
        "        shutil.move(os.path.join(src_dir, file_name), os.path.join(dest_dir, file_name))\n",
        "        # print(f\"Moved {file_name} from {src_dir} to {dest_dir}\")\n",
        "\n",
        "# src_dir = '/content/VisualVoice/VoxCeleb2/mouth_roi_hdf5/unseen_unheard_test/'\n",
        "# dest_dir = '/content/VisualVoice/VoxCeleb2/mouth_roi/unseen_unheard_test/'\n",
        "\n",
        "\n",
        "# # Loop through the files and directories in the source directory\n",
        "# for file_name in os.listdir(src_dir):\n",
        "#     # Check if the current item is a directory and has the specified name\n",
        "#     if os.path.isdir(os.path.join(src_dir, file_name)) and file_name in unseen_unheard_test_ids:\n",
        "#         # If it does, move the directory to the destination directory\n",
        "#         shutil.move(os.path.join(src_dir, file_name), os.path.join(dest_dir, file_name))\n",
        "#         print(f\"Moved {file_name} from {src_dir} to {dest_dir}\")\n",
        "\n"
      ]
    },
    {
      "cell_type": "code",
      "execution_count": null,
      "metadata": {
        "id": "YH8HK_Y58DZA"
      },
      "outputs": [],
      "source": [
        "import os\n",
        "import shutil\n",
        "\n",
        "# Define the source and destination directories\n",
        "src_dir = '/content/aac/'\n",
        "dest_dir = '/content/VisualVoice/VoxCeleb2/aac/val/'\n",
        "\n",
        "\n",
        "# Loop through the files and directories in the source directory\n",
        "for file_name in os.listdir(src_dir):\n",
        "    # Check if the current item is a directory and has the specified name\n",
        "    if os.path.isdir(os.path.join(src_dir, file_name)) and file_name in val_ids:\n",
        "        # If it does, move the directory to the destination directory\n",
        "        shutil.move(os.path.join(src_dir, file_name), os.path.join(dest_dir, file_name))\n",
        "        # print(f\"Moved {file_name} from {src_dir} to {dest_dir}\")\n",
        "\n",
        "# Define the source and destination directories\n",
        "src_dir = '/content/mp4/'\n",
        "dest_dir = '/content/VisualVoice/VoxCeleb2/mp4/val/'\n",
        "\n",
        "\n",
        "# Loop through the files and directories in the source directory\n",
        "for file_name in os.listdir(src_dir):\n",
        "    # Check if the current item is a directory and has the specified name\n",
        "    if os.path.isdir(os.path.join(src_dir, file_name)) and file_name in val_ids:\n",
        "        # If it does, move the directory to the destination directory\n",
        "        shutil.move(os.path.join(src_dir, file_name), os.path.join(dest_dir, file_name))\n",
        "        # print(f\"Moved {file_name} from {src_dir} to {dest_dir}\")\n",
        "\n",
        "# Define the source and destination directories\n",
        "src_dir = '/content/mouth_roi_hdf5/'\n",
        "dest_dir = '/content/VisualVoice/VoxCeleb2/mouth_roi_hdf5/val/'\n",
        "\n",
        "\n",
        "# Loop through the files and directories in the source directory\n",
        "for file_name in os.listdir(src_dir):\n",
        "    # Check if the current item is a directory and has the specified name\n",
        "    if os.path.isdir(os.path.join(src_dir, file_name)) and file_name in val_ids:\n",
        "        # If it does, move the directory to the destination directory\n",
        "        shutil.move(os.path.join(src_dir, file_name), os.path.join(dest_dir, file_name))\n",
        "        # print(f\"Moved {file_name} from {src_dir} to {dest_dir}\")\n"
      ]
    },
    {
      "cell_type": "code",
      "execution_count": null,
      "metadata": {
        "id": "E51RlvV68M5q"
      },
      "outputs": [],
      "source": [
        "import os\n",
        "import shutil\n",
        "\n",
        "# Define the source and destination directories\n",
        "src_dir = '/content/aac/'\n",
        "dest_dir = '/content/VisualVoice/VoxCeleb2/aac/train/'\n",
        "\n",
        "\n",
        "# Loop through the files and directories in the source directory\n",
        "for file_name in os.listdir(src_dir):\n",
        "    # Check if the current item is a directory and has the specified name\n",
        "    if os.path.isdir(os.path.join(src_dir, file_name)) and file_name in train_ids:\n",
        "        # If it does, move the directory to the destination directory\n",
        "        shutil.move(os.path.join(src_dir, file_name), os.path.join(dest_dir, file_name))\n",
        "        # print(f\"Moved {file_name} from {src_dir} to {dest_dir}\")\n",
        "\n",
        "src_dir = '/content/mp4/'\n",
        "dest_dir = '/content/VisualVoice/VoxCeleb2/mp4/train/'\n",
        "\n",
        "\n",
        "# Loop through the files and directories in the source directory\n",
        "for file_name in os.listdir(src_dir):\n",
        "    # Check if the current item is a directory and has the specified name\n",
        "    if os.path.isdir(os.path.join(src_dir, file_name)) and file_name in train_ids:\n",
        "        # If it does, move the directory to the destination directory\n",
        "        shutil.move(os.path.join(src_dir, file_name), os.path.join(dest_dir, file_name))\n",
        "        # print(f\"Moved {file_name} from {src_dir} to {dest_dir}\")\n",
        "\n",
        "src_dir = '/content/mouth_roi_hdf5/'\n",
        "dest_dir = '/content/VisualVoice/VoxCeleb2/mouth_roi_hdf5/train/'\n",
        "\n",
        "\n",
        "# Loop through the files and directories in the source directory\n",
        "for file_name in os.listdir(src_dir):\n",
        "    # Check if the current item is a directory and has the specified name\n",
        "    if os.path.isdir(os.path.join(src_dir, file_name)) and file_name in train_ids:\n",
        "        # If it does, move the directory to the destination directory\n",
        "        shutil.move(os.path.join(src_dir, file_name), os.path.join(dest_dir, file_name))\n",
        "        # print(f\"Moved {file_name} from {src_dir} to {dest_dir}\")\n"
      ]
    },
    {
      "cell_type": "code",
      "execution_count": null,
      "metadata": {
        "id": "6TExjz9gI9CX"
      },
      "outputs": [],
      "source": [
        "%cd /content/VisualVoice/\n"
      ]
    },
    {
      "cell_type": "code",
      "execution_count": null,
      "metadata": {
        "id": "HxeN_jO92waW"
      },
      "outputs": [],
      "source": []
    },
    {
      "cell_type": "code",
      "execution_count": null,
      "metadata": {
        "id": "jK1Huobs8QUc"
      },
      "outputs": [],
      "source": [
        "import h5py\n",
        "import shutil\n",
        "\n",
        "!rm unseen_unheard_test.h5\n",
        "!rm train.h5\n",
        "!rm val.h5\n",
        "!rm seen_heard_test.h5\n",
        "# trainfile.close()\n",
        "# valfile.close()\n",
        "# h5file.close()\n",
        "# seenfile.close()\n",
        "\n",
        "!wget http://dl.fbaipublicfiles.com/VisualVoice/hdf5/VoxCeleb2/unseen_unheard_test.h5\n",
        "h5file = h5py.File(\"unseen_unheard_test.h5\", 'r+')\n",
        "print(list(h5file.keys()))\n",
        "print(h5file.items())\n",
        "print(h5file['videos_path'][:])\n",
        "\n",
        "\n",
        "for i in range(len(h5file['videos_path'])):\n",
        "  j = h5file['videos_path'][i].decode('utf-8')\n",
        "  j = \"/content\" + j[20:]\n",
        "  h5file['videos_path'][i] = j.encode('utf-8')\n",
        "\n",
        "\n",
        "\n",
        "\n",
        "with h5py.File('train.h5','w') as f_dest:\n",
        "    with h5py.File('unseen_unheard_test.h5','r') as f_src:\n",
        "            f_src.copy(f_src[\"videos_path\"],f_dest[\"/\"],\"videos_path\")\n",
        "            print(f_dest)\n",
        "            print(f_dest.keys())\n",
        "            print(f_dest.items())\n",
        "            f_dest.close()\n",
        "\n",
        "\n",
        "with h5py.File('val.h5','w') as f_dest:\n",
        "    with h5py.File('unseen_unheard_test.h5','r') as f_src:\n",
        "            f_src.copy(f_src[\"videos_path\"],f_dest[\"/\"],\"videos_path\")\n",
        "            print(f_dest)\n",
        "            print(f_dest.keys())\n",
        "            print(f_dest.items())\n",
        "            f_dest.close()\n",
        "\n",
        "\n",
        "with h5py.File('seen_heard_test.h5','w') as f_dest:\n",
        "    with h5py.File('unseen_unheard_test.h5','r') as f_src:\n",
        "            f_src.copy(f_src[\"videos_path\"],f_dest[\"/\"],\"videos_path\")\n",
        "            print(f_dest)\n",
        "            print(f_dest.keys())\n",
        "            print(f_dest.items())\n",
        "            f_dest.close()\n",
        "\n",
        "unseenpaths = []\n",
        "for i in range(len(h5file['videos_path'])):\n",
        "  j = h5file['videos_path'][i].decode('utf-8')\n",
        "  index = j.find('unseen')\n",
        "  index2 = j.find('test/')\n",
        "  id = j.split('/')[-2]\n",
        "  if id in unseen_unheard_test_ids: \n",
        "    unseenpaths.append(j.encode('utf-8'))\n",
        "  \n",
        "h5file.__delitem__('videos_path')\n",
        "h5file['videos_path'] = unseenpaths\n",
        "\n",
        "trainfile = h5py.File('train.h5', 'r+')\n",
        "trainpaths = []\n",
        "for i in range(len(trainfile['videos_path'])):\n",
        "  j = trainfile['videos_path'][i].decode('utf-8')\n",
        "  index = j.find('unseen')\n",
        "  index2 = j.find('test/')\n",
        "  id = j.split('/')[-2]\n",
        "  if id in train_ids:\n",
        "    trainpaths.append((j[:index] + \"train\" + j[index2+4:]).encode('utf-8'))\n",
        "  \n",
        "trainfile.__delitem__('videos_path')\n",
        "trainfile['videos_path'] = trainpaths\n",
        "\n",
        "\n",
        "valfile = h5py.File('val.h5', 'r+')\n",
        "valpaths = []\n",
        "for i in range(len(valfile['videos_path'])):\n",
        "  j = valfile['videos_path'][i].decode('utf-8')\n",
        "  index = j.find('unseen')\n",
        "  index2 = j.find('test/')\n",
        "  id = j.split('/')[-2]\n",
        "  if id in val_ids:\n",
        "    valpaths.append((j[:index] + \"val\" + j[index2+4:]).encode('utf-8'))\n",
        "  \n",
        "valfile.__delitem__('videos_path')\n",
        "valfile['videos_path'] = valpaths\n",
        "\n",
        "seenfile = h5py.File('seen_heard_test.h5', 'r+')\n",
        "seenpaths = []\n",
        "for i in range(len(seenfile['videos_path'])):\n",
        "  j = seenfile['videos_path'][i].decode('utf-8')\n",
        "  index = j.find('unseen')\n",
        "  index2 = j.find('test/')\n",
        "  id = j.split('/')[-2]\n",
        "  if id in seen_heard_test_ids:\n",
        "    seenpaths.append((j[:index] + \"seen_heard_test\" + j[index2+4:]).encode('utf-8'))\n",
        "  \n",
        "seenfile.__delitem__('videos_path')\n",
        "seenfile['videos_path'] = seenpaths\n",
        "\n",
        "\n",
        "print(trainfile.keys())\n",
        "\n",
        "h5file.close()\n",
        "trainfile.close()\n",
        "valfile.close()\n",
        "seenfile.close()"
      ]
    },
    {
      "cell_type": "code",
      "execution_count": null,
      "metadata": {
        "id": "ir6xgRKn_pB9"
      },
      "outputs": [],
      "source": []
    },
    {
      "cell_type": "code",
      "execution_count": null,
      "metadata": {
        "id": "hyKOQZQSEBrm"
      },
      "outputs": [],
      "source": [
        "!wget http://dl.fbaipublicfiles.com/VisualVoice/cross-modal-pretraining/facial.pth\n",
        "!wget http://dl.fbaipublicfiles.com/VisualVoice/cross-modal-pretraining/vocal.pth"
      ]
    },
    {
      "cell_type": "code",
      "execution_count": null,
      "metadata": {
        "id": "IxLt9hDYUOTw"
      },
      "outputs": [],
      "source": [
        "!mkdir /content/VisualVoice/pretrained_models/cross-modal-pretraining/\n",
        "%mv /content/VisualVoice/facial.pth /content/VisualVoice/pretrained_models/cross-modal-pretraining/\n",
        "%mv /content/VisualVoice/vocal.pth /content/VisualVoice/pretrained_models/cross-modal-pretraining/"
      ]
    },
    {
      "cell_type": "code",
      "execution_count": null,
      "metadata": {
        "id": "zEVdrkCDEOiY"
      },
      "outputs": [],
      "source": [
        "!ls"
      ]
    },
    {
      "cell_type": "code",
      "execution_count": null,
      "metadata": {
        "id": "4FQV6Rk_Wuyx"
      },
      "outputs": [],
      "source": [
        "%mkdir  /content/VisualVoice/hdf5\n",
        "%mkdir /content/VisualVoice/hdf5/VoxCeleb2\n",
        "!mv /content/VisualVoice/*.h5 /content/VisualVoice/hdf5/VoxCeleb2"
      ]
    },
    {
      "cell_type": "code",
      "execution_count": null,
      "metadata": {
        "id": "wIwyPhP9XWXi"
      },
      "outputs": [],
      "source": []
    },
    {
      "cell_type": "code",
      "execution_count": null,
      "metadata": {
        "id": "TP0ekJTMYMjT"
      },
      "outputs": [],
      "source": [
        "\n",
        "!pip install tensorboardX==2.2\n",
        "!pip install protobuf==3.20\n",
        "import os\n",
        "os.environ['PROTOCOL_BUFFERS_PYTHON_IMPLEMENTATION'] = 'python'"
      ]
    },
    {
      "cell_type": "code",
      "execution_count": null,
      "metadata": {
        "id": "Byde_oIaECE0"
      },
      "outputs": [],
      "source": [
        "!python train.py \\\n",
        "--name exp \\\n",
        "--gpu_ids 0 \\\n",
        "--batchSize 128 \\\n",
        "--nThreads 32 \\\n",
        "--display_freq 10 \\\n",
        "--save_latest_freq 500 \\\n",
        "--niter 1 \\\n",
        "--validation_on True \\\n",
        "--validation_freq 200 \\\n",
        "--validation_batches 30 \\\n",
        "--num_batch 50000 \\\n",
        "--lr_steps 30000 40000 \\\n",
        "--coseparation_loss_weight 0.01 \\\n",
        "--mixandseparate_loss_weight 1 \\\n",
        "--crossmodal_loss_weight 0.01 \\\n",
        "--lr_lipreading 0.0001 \\\n",
        "--lr_facial_attributes 0.00001 \\\n",
        "--lr_unet 0.0001 \\\n",
        "--lr_vocal_attributes 0.00001 \\\n",
        "--num_frames 64 \\\n",
        "--audio_length 2.55 \\\n",
        "--hop_size 160 \\\n",
        "--window_size 400 \\\n",
        "--n_fft 512 \\\n",
        "--margin 0.5 \\\n",
        "--weighted_loss \\\n",
        "--visual_pool maxpool \\\n",
        "--audio_pool maxpool \\\n",
        "--optimizer adam \\\n",
        "--normalization \\\n",
        "--tensorboard True \\\n",
        "--mask_loss_type L2 \\\n",
        "--visual_feature_type both \\\n",
        "--unet_input_nc 2 \\\n",
        "--unet_output_nc 2 \\\n",
        "--compression_type none \\\n",
        "--mask_clip_threshold 5 \\\n",
        "--audioVisual_feature_dim 1152 \\\n",
        "--identity_feature_dim 128 \\\n",
        "--audio_normalization \\\n",
        "--lipreading_extract_feature \\\n",
        "--weights_facial ./pretrained_models/cross-modal-pretraining/facial.pth \\\n",
        "--weights_vocal ./pretrained_models/cross-modal-pretraining/vocal.pth \\\n",
        "--lipreading_config_path configs/lrw_snv1x_tcn2x.json \\\n",
        "--data_path hdf5/VoxCeleb2/ \\\n",
        "|& tee logs.txt"
      ]
    },
    {
      "cell_type": "code",
      "execution_count": null,
      "metadata": {
        "id": "1gIjQMJxEKE0"
      },
      "outputs": [],
      "source": [
        "import torch\n",
        "print(torch.cuda.device_count())"
      ]
    },
    {
      "cell_type": "code",
      "execution_count": null,
      "metadata": {
        "id": "Yrb9ZHoB5U3V"
      },
      "outputs": [],
      "source": [
        "!python multi_test.py \\\n",
        "--test_count 100 \\\n",
        "--testset_root /content/VisualVoice/VoxCeleb2 \\\n",
        "--testset_type seen_heard_test \\\n",
        "--num_frames 64 \\\n",
        "--audio_length 2.55 \\\n",
        "--hop_size 160 \\\n",
        "--window_size 400 \\\n",
        "--n_fft 512 \\\n",
        "--weights_lipreadingnet pretrained_models/lipreading_best.pth \\\n",
        "--weights_facial pretrained_models/facial_best.pth \\\n",
        "--weights_unet pretrained_models/unet_best.pth \\\n",
        "--weights_vocal pretrained_models/vocal_best.pth \\\n",
        "--lipreading_config_path configs/lrw_snv1x_tcn2x.json \\\n",
        "--unet_output_nc 2 \\\n",
        "--normalization \\\n",
        "--mask_to_use pred \\\n",
        "--visual_feature_type both \\\n",
        "--identity_feature_dim 128 \\\n",
        "--audioVisual_feature_dim 1152 \\\n",
        "--visual_pool maxpool \\\n",
        "--audio_pool maxpool \\\n",
        "--compression_type none \\\n",
        "--mask_clip_threshold 5 \\\n",
        "--hop_length 2.55 \\\n",
        "--audio_normalization \\\n",
        "--lipreading_extract_feature \\\n",
        "--number_of_identity_frames 1 \\\n",
        "--output_dir_root multi_test_videos"
      ]
    },
    {
      "cell_type": "code",
      "execution_count": null,
      "metadata": {
        "id": "ycpdy8mLAJYF"
      },
      "outputs": [],
      "source": [
        "%%capture\n",
        "%cd /content/VisualVoice/pypesq-1.2.4/\n",
        "!sudo apt-get install python3.7-dev\n",
        "\n",
        "!python setup.py install\n"
      ]
    },
    {
      "cell_type": "code",
      "execution_count": null,
      "metadata": {
        "id": "jwXT_13x7DtU"
      },
      "outputs": [],
      "source": [
        "%%capture\n",
        "!sudo apt-get install -y libsndfile1-dev\n",
        "\n",
        "\n",
        "!pip install mir_eval==0.6\n",
        "!pip uninstall pypesq -y && pip cache purge\n",
        "!pip install pypesq==1.2.4\n",
        "!pip install pystoi\n",
        "\n"
      ]
    },
    {
      "cell_type": "code",
      "execution_count": null,
      "metadata": {
        "id": "mVjL81Y_aEDq"
      },
      "outputs": [],
      "source": [
        "%cd /content/VisualVoice/\n",
        "!python multi_eval.py --results_dir /content/VisualVoice/multi_test_videos"
      ]
    },
    {
      "cell_type": "code",
      "execution_count": null,
      "metadata": {
        "id": "b8TAD06oc5vn"
      },
      "outputs": [],
      "source": []
    }
  ],
  "metadata": {
    "accelerator": "GPU",
    "colab": {
      "provenance": []
    },
    "gpuClass": "standard",
    "kernelspec": {
      "display_name": "Python 3",
      "name": "python3"
    },
    "language_info": {
      "name": "python"
    }
  },
  "nbformat": 4,
  "nbformat_minor": 0
}